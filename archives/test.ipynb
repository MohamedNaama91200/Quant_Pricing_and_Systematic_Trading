{
 "cells": [
  {
   "cell_type": "code",
   "execution_count": 18,
   "metadata": {},
   "outputs": [],
   "source": [
    "import numpy as np"
   ]
  },
  {
   "cell_type": "code",
   "execution_count": null,
   "metadata": {},
   "outputs": [],
   "source": [
    "ssc =2\n"
   ]
  },
  {
   "cell_type": "code",
   "execution_count": 110,
   "metadata": {},
   "outputs": [
    {
     "ename": "NameError",
     "evalue": "name 'np' is not defined",
     "output_type": "error",
     "traceback": [
      "\u001b[1;31m---------------------------------------------------------------------------\u001b[0m",
      "\u001b[1;31mNameError\u001b[0m                                 Traceback (most recent call last)",
      "Cell \u001b[1;32mIn[110], line 2\u001b[0m\n\u001b[0;32m      1\u001b[0m \u001b[38;5;66;03m# Exemple de données\u001b[39;00m\n\u001b[1;32m----> 2\u001b[0m strikes \u001b[38;5;241m=\u001b[39m \u001b[43mnp\u001b[49m\u001b[38;5;241m.\u001b[39marray([\u001b[38;5;241m80\u001b[39m, \u001b[38;5;241m90\u001b[39m, \u001b[38;5;241m100\u001b[39m, \u001b[38;5;241m110\u001b[39m, \u001b[38;5;241m120\u001b[39m])\n\u001b[0;32m      3\u001b[0m maturities \u001b[38;5;241m=\u001b[39m np\u001b[38;5;241m.\u001b[39marray([\u001b[38;5;241m0.1\u001b[39m, \u001b[38;5;241m0.5\u001b[39m, \u001b[38;5;241m1.0\u001b[39m])\n\u001b[0;32m      4\u001b[0m option_prices \u001b[38;5;241m=\u001b[39m np\u001b[38;5;241m.\u001b[39marray([\n\u001b[0;32m      5\u001b[0m     [\u001b[38;5;241m10.5\u001b[39m, \u001b[38;5;241m9.2\u001b[39m, \u001b[38;5;241m7.8\u001b[39m, \u001b[38;5;241m6.1\u001b[39m, \u001b[38;5;241m4.5\u001b[39m],  \u001b[38;5;66;03m# Prix pour T=0.1\u001b[39;00m\n\u001b[0;32m      6\u001b[0m     [\u001b[38;5;241m11.3\u001b[39m, \u001b[38;5;241m10.1\u001b[39m, \u001b[38;5;241m8.5\u001b[39m, \u001b[38;5;241m6.9\u001b[39m, \u001b[38;5;241m5.2\u001b[39m],  \u001b[38;5;66;03m# Prix pour T=0.5\u001b[39;00m\n\u001b[0;32m      7\u001b[0m     [\u001b[38;5;241m12.1\u001b[39m, \u001b[38;5;241m11.0\u001b[39m, \u001b[38;5;241m9.4\u001b[39m, \u001b[38;5;241m7.5\u001b[39m, \u001b[38;5;241m5.8\u001b[39m],  \u001b[38;5;66;03m# Prix pour T=1.0\u001b[39;00m\n\u001b[0;32m      8\u001b[0m ])\n",
      "\u001b[1;31mNameError\u001b[0m: name 'np' is not defined"
     ]
    }
   ],
   "source": [
    "l = 3\n",
    "\n"
   ]
  },
  {
   "cell_type": "code",
   "execution_count": null,
   "metadata": {},
   "outputs": [],
   "source": []
  }
 ],
 "metadata": {
  "kernelspec": {
   "display_name": ".venv",
   "language": "python",
   "name": "python3"
  },
  "language_info": {
   "codemirror_mode": {
    "name": "ipython",
    "version": 3
   },
   "file_extension": ".py",
   "mimetype": "text/x-python",
   "name": "python",
   "nbconvert_exporter": "python",
   "pygments_lexer": "ipython3",
   "version": "3.11.0"
  }
 },
 "nbformat": 4,
 "nbformat_minor": 2
}
