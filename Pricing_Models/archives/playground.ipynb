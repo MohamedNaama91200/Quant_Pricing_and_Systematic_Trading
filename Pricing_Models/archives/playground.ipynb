{
 "cells": [
  {
   "cell_type": "code",
   "execution_count": 2,
   "metadata": {},
   "outputs": [],
   "source": [
    "import numpy as np\n",
    "from bsm import * \n",
    "from loadings import *"
   ]
  },
  {
   "cell_type": "code",
   "execution_count": 3,
   "metadata": {},
   "outputs": [
    {
     "name": "stdout",
     "output_type": "stream",
     "text": [
      "Prix de l'option Call : 8.021352235143176\n",
      "Prix de l'option Put : 7.9004418077181455\n"
     ]
    }
   ],
   "source": [
    "# Exemple d'utilisation :\n",
    "prix_call = call_bsm(So=100, K=105, r=0.05, T=1, option_type=\"Call\", sig=0.2)\n",
    "prix_put = call_bsm(So=100, K=105, r=0.05, T=1, option_type=\"Put\", sig=0.2)\n",
    "\n",
    "print(\"Prix de l'option Call :\", prix_call)\n",
    "print(\"Prix de l'option Put :\", prix_put)"
   ]
  }
 ],
 "metadata": {
  "kernelspec": {
   "display_name": ".venv",
   "language": "python",
   "name": "python3"
  },
  "language_info": {
   "codemirror_mode": {
    "name": "ipython",
    "version": 3
   },
   "file_extension": ".py",
   "mimetype": "text/x-python",
   "name": "python",
   "nbconvert_exporter": "python",
   "pygments_lexer": "ipython3",
   "version": "3.11.0"
  }
 },
 "nbformat": 4,
 "nbformat_minor": 2
}
