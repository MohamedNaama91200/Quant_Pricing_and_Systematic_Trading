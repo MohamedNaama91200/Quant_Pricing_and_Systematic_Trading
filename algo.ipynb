{
 "cells": [
  {
   "cell_type": "code",
   "execution_count": 1,
   "metadata": {},
   "outputs": [],
   "source": [
    "import math\n",
    "from scipy.stats import norm\n",
    "from scipy.integrate import quad\n",
    "import numpy as np\n",
    "# pip install scipy\n",
    "# pip install numpy\n",
    "# pip install -U ipykernel\n"
   ]
  },
  {
   "cell_type": "markdown",
   "metadata": {},
   "source": [
    "# Black Scholes method"
   ]
  },
  {
   "cell_type": "code",
   "execution_count": 1,
   "metadata": {},
   "outputs": [],
   "source": [
    "def black_scholes(S, K, T, r, sigma, option_type=\"call\"):\n",
    "    \"\"\"\n",
    "    Calcule le prix d'une option européenne à l'aide du modèle de Black-Scholes.\n",
    "\n",
    "    :param S: Prix actuel de l'actif sous-jacent (spot price)\n",
    "    :param K: Prix d'exercice de l'option (strike price)\n",
    "    :param T: Temps jusqu'à l'échéance (en années)\n",
    "    :param r: Taux d'intérêt sans risque (annuel, en décimales)\n",
    "    :param sigma: Volatilité de l'actif sous-jacent (annuelle, en décimales)\n",
    "    :param option_type: \"call\" pour un call, \"put\" pour un put\n",
    "    :return: Prix de l'option\n",
    "    \"\"\"\n",
    "    # Calcul des paramètres d1 et d2\n",
    "    d1 = (math.log(S / K) + (r + (sigma**2) / 2) * T) / (sigma * math.sqrt(T))\n",
    "    d2 = d1 - sigma * math.sqrt(T)\n",
    "    \n",
    "    if option_type == \"call\":\n",
    "        # Prix du call\n",
    "        price = S * norm.cdf(d1) - K * math.exp(-r * T) * norm.cdf(d2)\n",
    "    elif option_type == \"put\":\n",
    "        # Prix du put\n",
    "        price = K * math.exp(-r * T) * norm.cdf(-d2) - S * norm.cdf(-d1)\n",
    "    else:\n",
    "        raise ValueError(\"option_type doit être 'call' ou 'put'\")\n",
    "    \n",
    "    return price"
   ]
  },
  {
   "cell_type": "code",
   "execution_count": 4,
   "metadata": {},
   "outputs": [
    {
     "name": "stdout",
     "output_type": "stream",
     "text": [
      "Prix du call : 10.45\n",
      "Prix du put : 5.57\n"
     ]
    }
   ],
   "source": [
    "# Exemple d'utilisation de la fonction black_scholes\n",
    "S0 = 100  # Prix actuel de l'actif sous-jacent\n",
    "K = 100  # Prix d'exercice\n",
    "T = 1    # Temps jusqu'à l'échéance en années\n",
    "r = 0.05 # Taux d'intérêt sans risque (5%)\n",
    "sigma = 0.2  # Volatilité (20%)\n",
    "\n",
    "call_price = black_scholes(S0, K, T, r, sigma, option_type=\"call\")\n",
    "put_price = black_scholes(S0, K, T, r, sigma, option_type=\"put\")\n",
    "\n",
    "print(f\"Prix du call : {call_price:.2f}\")\n",
    "print(f\"Prix du put : {put_price:.2f}\")"
   ]
  },
  {
   "cell_type": "code",
   "execution_count": null,
   "metadata": {},
   "outputs": [],
   "source": [
    "def implied_volatility(option_price, S, K, T, r, option_type=\"call\", tol=1e-8, max_iter=100):\n",
    "    \"\"\"\n",
    "    Calcule la volatilité implicite en utilisant une méthode itérative basée sur Newton-Raphson.\n",
    "    \"\"\"\n",
    "    sigma = 0.2  # Initialisation avec une volatilité de départ\n",
    "    for i in range(max_iter):\n",
    "        price = black_scholes(S, K, T, r, sigma, option_type)\n",
    "        vega_value = numerical_vega(S, K, T, r, sigma, option_type)\n",
    "        \n",
    "        # Mise à jour de sigma selon Newton-Raphson\n",
    "        sigma_new = sigma - (price - option_price) / vega_value\n",
    "        \n",
    "        # Vérification du critère d'arrêt\n",
    "        if abs(price - option_price) < tol:\n",
    "            return sigma, i # Retourner sigma si convergence atteinte\n",
    "        \n",
    "        sigma = sigma_new\n",
    "    # affiche le nombre d'itérations\n",
    "    \n",
    "    # Si la convergence échoue\n",
    "    raise ValueError(\"La volatilité implicite n'a pas convergé.\")\n",
    "\n",
    "def numerical_vega(S, K, T, r, sigma, option_type=\"call\", epsilon=1e-5):\n",
    "    \"\"\"\n",
    "    Approche numérique pour calculer la vega en utilisant les différences finies.\n",
    "    \"\"\"\n",
    "    price_up = black_scholes(S, K, T, r, sigma + epsilon, option_type)\n",
    "    price_down = black_scholes(S, K, T, r, sigma - epsilon, option_type)\n",
    "    return (price_up - price_down) / (2 * epsilon)\n",
    "\n"
   ]
  },
  {
   "cell_type": "code",
   "execution_count": null,
   "metadata": {},
   "outputs": [],
   "source": [
    "# Exemple d'utilisation de la fonction implied_volatility\n",
    "S = 100       # Prix actuel de l'actif sous-jacent\n",
    "K = 110       # Prix d'exercice\n",
    "T = 1         # Temps jusqu'à l'échéance (en années)\n",
    "r = 0.05      # Taux d'intérêt sans risque\n",
    "market_price = 5  # Prix observé de l'option\n",
    "option_type = \"put\"  # Type d'option (\"call\" ou \"put\")\n",
    "\n",
    "# Calcul de la volatilité implicite\n",
    "implied_vol, iter = implied_volatility(market_price, S, K, T, r, option_type)\n",
    "print(f\"Volatilité implicite : {implied_vol:.4f}\")\n",
    "print(f\"Nombre d'itérations : {iter}\")"
   ]
  },
  {
   "cell_type": "code",
   "execution_count": null,
   "metadata": {},
   "outputs": [],
   "source": [
    "def simulate_black_scholes(S0, T, r, sigma, steps=10000):\n",
    "    np.random.seed(42)  # Pour des résultats reproductibles\n",
    "    dt = T / steps\n",
    "    t = np.linspace(0, T, steps) \n",
    "    W = np.random.normal(0, np.sqrt(dt), steps)  # Incréments de Brownien de pas de temps dt \n",
    "    S = S0 * np.exp((r - 0.5 * sigma ** 2) * t + sigma * np.cumsum(W))\n",
    "    return S, t\n",
    "\n",
    "# incrémants indépendants de loi normale N(0,dt) plus restrictif que seulment Wt de loi normal N(0,t) où W n'est des lors plus un borwnien !\n"
   ]
  },
  {
   "cell_type": "code",
   "execution_count": null,
   "metadata": {},
   "outputs": [],
   "source": [
    "# Exemple de simulation\n",
    "S0 = 100  # Prix initial\n",
    "T = 1     # Maturité (1 an)\n",
    "r = 0.05  # Taux sans risque\n",
    "sigma = 0.2  # Volatilité\n",
    "trajectoire, temps = simulate_black_scholes(S0, T, r, sigma)\n",
    "\n",
    "import matplotlib.pyplot as plt\n",
    "plt.plot(temps, trajectoire)\n",
    "plt.title(\"Simulation du modèle Black-Scholes\")\n",
    "plt.xlabel(\"Temps\")\n",
    "plt.ylabel(\"Prix de l'actif\")\n",
    "plt.show()\n"
   ]
  },
  {
   "cell_type": "markdown",
   "metadata": {},
   "source": [
    "# Heston Method"
   ]
  },
  {
   "cell_type": "code",
   "execution_count": 5,
   "metadata": {},
   "outputs": [],
   "source": [
    "def heston_monte_carlo(S0, v0, r, kappa, v_bar, gamma, rho, K, T, N, M):\n",
    "    \"\"\"\n",
    "    S0 : float : Prix initial de l'actif sous-jacent\n",
    "    v0 : float : Variance initiale\n",
    "    r : float : Taux sans risque\n",
    "    kappa : float : Vitesse de retour à la moyenne\n",
    "    v_bar : float : Variance à long terme (moyenne)\n",
    "    gamma : float : Volatilité de la variance\n",
    "    rho : float : Corrélation entre les processus\n",
    "    K : float : Prix d'exercice de l'option\n",
    "    T : float : Temps jusqu'à maturité (en années)\n",
    "    N : int : Nombre de pas de discrétisation\n",
    "    M : int : Nombre de simulations de Monte-Carlo\n",
    "    \"\"\"\n",
    "    dt = T / N  # Pas de temps\n",
    "    \n",
    "    # Initialisation des matrices pour S et v\n",
    "    S = np.zeros((M, N + 1))\n",
    "    v = np.zeros((M, N + 1))\n",
    "    S[:, 0] = S0\n",
    "    v[:, 0] = v0\n",
    "\n",
    "    # Génération des variables normales\n",
    "    for i in range(N):\n",
    "        Z1 = np.random.normal(size=M)\n",
    "        Z2 = np.random.normal(size=M)\n",
    "        W1 = Z1\n",
    "        W2 = rho * Z1 + np.sqrt(1 - rho**2) * Z2\n",
    "\n",
    "        # Mise à jour de v (variance)\n",
    "        v[:, i + 1] = v[:, i] \n",
    "        + kappa * (v_bar - v[:, i]) * dt + gamma * np.sqrt(np.maximum(v[:, i] * dt,0)) * W2\n",
    "            \n",
    "\n",
    "        # Mise à jour de S (prix de l'actif)\n",
    "        S[:, i + 1] = S[:, i] * np.exp(\n",
    "            (r - 0.5 * v[:, i]) * dt + np.sqrt(np.maximum(v[:, i] * dt,0)) * W1\n",
    "        )\n",
    "\n",
    "    # Calcul des payoffs\n",
    "    payoffs = np.maximum(S[:, -1] - K, 0)\n",
    "\n",
    "    # Estimation du prix de l'option\n",
    "    C = np.exp(-r * T) * np.mean(payoffs)\n",
    "\n",
    "    return C"
   ]
  },
  {
   "cell_type": "code",
   "execution_count": 6,
   "metadata": {},
   "outputs": [
    {
     "name": "stdout",
     "output_type": "stream",
     "text": [
      "Le prix de l'option call est : 10.65\n"
     ]
    }
   ],
   "source": [
    "# Exemple de paramètres\n",
    "S0 = 100      # Prix initial de l'actif\n",
    "r = 0.05      # Taux sans risque\n",
    "K = 100       # Prix d'exercice\n",
    "T = 1.0       # Temps jusqu'à maturité (1 an)\n",
    "\n",
    "v0 = 0.04     # Variance initiale\n",
    "kappa = 2.0   # Vitesse de retour à la moyenne\n",
    "v_bar = 0.04  # Variance à long terme\n",
    "gamma = 0.5   # Volatilité de la variance\n",
    "rho = -0.7    # Corrélation entre les processus\n",
    "N = 252       # Nombre de pas (1 par jour pour 1 an)\n",
    "M = 10000     # Nombre de simulations Monte-Carlo\n",
    "\n",
    "# Calcul du prix de l'option\n",
    "prix_option = heston_monte_carlo(S0, v0, r, kappa, v_bar, gamma, rho, K, T, N, M)\n",
    "print(f\"Le prix de l'option call est : {prix_option:.2f}\")"
   ]
  },
  {
   "cell_type": "code",
   "execution_count": 1,
   "metadata": {},
   "outputs": [],
   "source": [
    "# # Fonction pour calculer d et g\n",
    "# def calculate_d_and_g(s, kappa, gamma, rho):\n",
    "#     d = np.sqrt((rho * gamma * 1j * s - kappa)**2 + (gamma**2) * (1j * s + s**2))\n",
    "#     g = (kappa - rho * gamma * 1j * s - d) / (kappa - rho * gamma * 1j * s + d)\n",
    "#     return d, g\n",
    "\n",
    "# # Fonction f(s)\n",
    "# def f(s):\n",
    "#     d, g = calculate_d_and_g(s, kappa, gamma, rho)\n",
    "    \n",
    "#     term1 = np.exp(r * T) * S0**(1j * s)\n",
    "#     term2 = (1 - g * np.exp(-d * T)) / (1 - g)\n",
    "#     term3 = (2 * v_bar * kappa / gamma**2)\n",
    "#     term4 = np.exp(\n",
    "#         (v_bar * kappa * T / gamma**2) * (kappa - rho * gamma * 1j * s - d) \n",
    "#         + (v0 / gamma**2) *  (kappa - rho * gamma * 1j * s + d) * (np.exp(-d * T) - 1) / ( np.exp(-d * T) - g ) \n",
    "#     )\n",
    "\n",
    "#     return term1 * term2 ** (-term3) * term4\n",
    "\n",
    "# def midpoint_rule_transformed(func, n):\n",
    "#     h = 1 / n  # Taille des sous-intervalles pour t dans [0, 1)\n",
    "#     integral = 0\n",
    "#     for i in range(n): # i va\n",
    "#         t_mid = i * h + h / 2  # Point médian\n",
    "#         x = t_mid / (1 - t_mid)  # Transformation\n",
    "#         # print(x)\n",
    "#         weight = 1 / (1 - t_mid)**2  # Jacobien\n",
    "#         if i == n-1:\n",
    "#             func(x)\n",
    "#             print(\"s\")\n",
    "#         integral += func(x) * weight\n",
    "\n",
    "#         # print(func(x))\n",
    "#     return integral * h\n"
   ]
  },
  {
   "cell_type": "code",
   "execution_count": 12,
   "metadata": {},
   "outputs": [],
   "source": [
    "# Intégration numérique pour le calcul du prix de l'option\n",
    "# def heston_price(n):\n",
    "#     integral_result = midpoint_rule_transformed(integrand, n)\n",
    "#     return 1/2 * (S0 + K * np.exp(-r * T)) + (1 / np.pi) * integral_result\n",
    "    "
   ]
  },
  {
   "cell_type": "code",
   "execution_count": null,
   "metadata": {},
   "outputs": [],
   "source": [
    "# # Exemple avec transformation\n",
    "# n_intervals = 1000  # Nombre de sous-intervalles\n",
    "# result = heston_price(n_intervals)\n",
    "# print(f\"Résultat de l'intégrale avec la méthode du point médian (transformation) : {result}\")"
   ]
  },
  {
   "cell_type": "markdown",
   "metadata": {},
   "source": [
    "# Local Volatily Dupire method"
   ]
  },
  {
   "cell_type": "code",
   "execution_count": 2,
   "metadata": {},
   "outputs": [],
   "source": [
    "def local_sigma(T, K, r, C):\n",
    "    \"\"\"\n",
    "    Calcule σ(T, K) à partir des dérivées partielles du prix C(T, K).\n",
    "\n",
    "    Paramètres :\n",
    "    - T : maturité\n",
    "    - K : strike\n",
    "    - r : taux sans risque\n",
    "    - C : fonction de prix C(T, K) l'interpolateur de prix\n",
    "\n",
    "    Retourne :\n",
    "    - σ_local(T, K)\n",
    "    \"\"\" \n",
    "    \n",
    "    # Première dérivée par rapport à T\n",
    "    delta_T = 1e-4  # Pas pour la dérivée\n",
    "    dC_dT = (C(T + delta_T, K) - C(T - delta_T, K)) / (2 * delta_T)\n",
    "\n",
    "    # Première dérivée par rapport à K\n",
    "    delta_K = 1e-4\n",
    "    dC_dK = (C(T, K + delta_K) - C(T, K - delta_K)) / (2 * delta_K)\n",
    "\n",
    "    # Deuxième dérivée par rapport à K\n",
    "    d2C_dK2 = (C(T, K + delta_K) - 2 * C(T, K) + C(T, K - delta_K)) / (delta_K ** 2)\n",
    "\n",
    "    # Calcul final de σ(T, K)\n",
    "    numerator = dC_dT + r * K * dC_dK\n",
    "    denominator = K**2 * d2C_dK2\n",
    "    sigma_value = np.sqrt(2 * numerator / denominator)\n",
    "\n",
    "    return sigma_value\n",
    " "
   ]
  },
  {
   "cell_type": "code",
   "execution_count": 6,
   "metadata": {},
   "outputs": [
    {
     "name": "stdout",
     "output_type": "stream",
     "text": [
      "Volatilité locale pour T=1, K=300 : 0.0274\n"
     ]
    }
   ],
   "source": [
    "import yfinance as yf\n",
    "import pandas as pd\n",
    "import numpy as np\n",
    "from scipy.interpolate import CloughTocher2DInterpolator\n",
    "import matplotlib.pyplot as plt\n",
    "from datetime import datetime\n",
    "# Ticker de l'action (par exemple, AAPL pour Apple)\n",
    "ticker = \"AAPL\"\n",
    "\n",
    "# Récupérer les options disponibles\n",
    "stock = yf.Ticker(ticker) # Création de l'objet Ticker qui contient les informations sur l'action\n",
    "option_dates = stock.options  # Les différentes maturités disponibles des options d'Apple\n",
    "options_data = []\n",
    "\n",
    "for option_date in option_dates:\n",
    "    # Récupérer les chaînes d'options pour la date d'expiration spécifique\n",
    "    options_chain = stock.option_chain(option_date)\n",
    "    # Filtrer uniquement les calls et ajouter à la liste\n",
    "    calls = options_chain.calls\n",
    "    calls['maturity'] = option_date\n",
    "    options_data.append(calls)\n",
    "\n",
    "\n",
    "all_calls = pd.concat(options_data, ignore_index=True)\n",
    "# Ajouter la colonne \"maturity_years\" en années à partir d'aujourd'hui\n",
    "today = datetime.today()\n",
    "all_calls['maturity_years'] = all_calls['maturity'].apply(\n",
    "    lambda x: (datetime.strptime(x, \"%Y-%m-%d\") - today).days / 365\n",
    ")\n",
    "\n",
    "# Ne conserver que les colonnes nécessaires\n",
    "all_calls = all_calls[['maturity_years', 'strike', 'lastPrice']]\n",
    "\n",
    "\n",
    "# T array contenant les maturités \n",
    "T = np.array(all_calls['maturity_years'])\n",
    "# print(T)\n",
    "K = np.array(all_calls['strike'])\n",
    "# print(K)\n",
    "# faire un array avec les maturités et les strikes\n",
    "points = np.array([T, K]).T \n",
    "values = np.array(all_calls['lastPrice'])\n",
    "\n",
    "interpolator = CloughTocher2DInterpolator(points, values)\n",
    "\n",
    "# Calcul de σ(T, K) pour un point donné\n",
    "T_test = 1\n",
    "K_test = 300\n",
    "r = 0.02\n",
    "sigma_value = local_sigma(T_test, K_test, r, interpolator)\n",
    "\n",
    "print(f\"Volatilité locale pour T={T_test}, K={K_test} : {sigma_value:.4f}\")\n",
    "\n",
    "\n"
   ]
  },
  {
   "cell_type": "markdown",
   "metadata": {},
   "source": [
    "Que faire une fois qu'on a calculé la volatilité locale ? "
   ]
  },
  {
   "cell_type": "markdown",
   "metadata": {},
   "source": [
    "https://quantipy.wordpress.com/2017/08/21/implementation-of-dupires-formula-for-local-volatilities/"
   ]
  }
 ],
 "metadata": {
  "kernelspec": {
   "display_name": ".venv",
   "language": "python",
   "name": "python3"
  },
  "language_info": {
   "codemirror_mode": {
    "name": "ipython",
    "version": 3
   },
   "file_extension": ".py",
   "mimetype": "text/x-python",
   "name": "python",
   "nbconvert_exporter": "python",
   "pygments_lexer": "ipython3",
   "version": "3.11.0"
  }
 },
 "nbformat": 4,
 "nbformat_minor": 2
}
